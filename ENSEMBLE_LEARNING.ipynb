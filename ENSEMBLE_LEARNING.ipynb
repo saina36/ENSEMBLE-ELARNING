{
  "nbformat": 4,
  "nbformat_minor": 0,
  "metadata": {
    "colab": {
      "provenance": [],
      "gpuType": "T4"
    },
    "kernelspec": {
      "name": "python3",
      "display_name": "Python 3"
    },
    "language_info": {
      "name": "python"
    },
    "accelerator": "GPU"
  },
  "cells": [
    {
      "cell_type": "markdown",
      "source": [
        "#ASSIGNMENT\n",
        "#PWSKILLS\n",
        "#ENSEMBLE LEARNING\n",
        "#THEORY QUESTIONS\n",
        "\n",
        "\n",
        "**1. Can we use Bagging for regression problems?**\n",
        "\n",
        "Yes, Bagging can be applied to regression problems using models like Decision Tree Regressor. The final prediction is made by averaging outputs from all models.\n",
        "\n",
        "**2. What is the difference between multiple model training and single model training?**\n",
        "\n",
        "* **Single model training** uses one algorithm on the full dataset.\n",
        "* **Multiple model training** combines outputs from several models trained on different subsets, improving accuracy and robustness.\n",
        "\n",
        "**3. Explain the concept of feature randomness in Random Forest:**\n",
        "\n",
        "Random Forest introduces randomness by selecting a **random subset of features** at each split, which decorrelates trees and increases diversity.\n",
        "\n",
        "**4. What is OOB (Out-of-Bag) Score?**\n",
        "\n",
        "OOB score is the model's accuracy measured using data **not included in the bootstrap sample**, acting like cross-validation in Bagging.\n",
        "\n",
        "**5. How can you measure the importance of features in a Random Forest model?**\n",
        "\n",
        "Feature importance is computed by observing the **decrease in Gini impurity** or **MSE** when a feature is used in splits across all trees.\n",
        "\n",
        "**6. Explain the working principle of a Bagging Classifier:**\n",
        "\n",
        "Bagging trains multiple classifiers on different **bootstrap samples** and combines their predictions using **majority voting** to make a final decision.\n",
        "\n",
        "**7. How do you evaluate a Bagging Classifier’s performance?**\n",
        "\n",
        "You can use metrics like **accuracy, precision, recall, F1-score**, and also the **OOB score** if available, to evaluate its performance.\n",
        "\n",
        "**8. How does a Bagging Regressor work?**\n",
        "\n",
        "Bagging Regressor fits multiple regressors on random subsets of the data and **averages their predictions** to make the final output.\n",
        "\n",
        "**9. What is the main advantage of ensemble techniques?**\n",
        "\n",
        "They combine multiple models to reduce **variance, bias, and overfitting**, leading to more accurate and stable predictions.\n",
        "\n",
        "**10. What is the main challenge of ensemble methods?**\n",
        "\n",
        "They are **computationally expensive**, harder to interpret, and may **overfit** if not tuned properly or if models are too complex.\n",
        "\n",
        "**11. Explain the key idea behind ensemble techniques:**\n",
        "\n",
        "The key idea is to **combine predictions** from multiple weak or base learners to form a **stronger** overall model.\n",
        "\n",
        "**12. What is a Random Forest Classifier?**\n",
        "\n",
        "Random Forest Classifier is an **ensemble of decision trees** built using bagging and feature randomness, and it uses majority voting to classify inputs.\n",
        "\n",
        "**13. What are the main types of ensemble techniques?**\n",
        "\n",
        "* **Bagging**\n",
        "* **Boosting**\n",
        "* **Stacking**\n",
        "\n",
        "**14. What is ensemble learning in machine learning?**\n",
        "\n",
        "Ensemble learning combines multiple base models to produce a **more powerful and generalizable** model than any individual one.\n",
        "\n",
        "**15. When should we avoid using ensemble methods?**\n",
        "\n",
        "Avoid when:\n",
        "\n",
        "* Data is very small\n",
        "* Model interpretability is crucial\n",
        "* Computation resources are limited\n",
        "\n",
        "**16. How does Bagging help in reducing overfitting?**\n",
        "\n",
        "By training on **random subsets** of the data, Bagging reduces the **variance** of predictions and prevents overfitting to training noise.\n",
        "\n",
        "**17. Why is Random Forest better than a single Decision Tree?**\n",
        "\n",
        "Random Forests reduce **overfitting** and increase **accuracy** by combining predictions from many diverse trees instead of relying on one.\n",
        "\n",
        "**18. What is the role of bootstrap sampling in Bagging?**\n",
        "\n",
        "Bootstrap sampling creates different subsets of data with **replacement**, allowing each model to learn different aspects of the data.\n",
        "\n",
        "**19. What are some real-world applications of ensemble techniques?**\n",
        "\n",
        "* Fraud detection\n",
        "* Spam filtering\n",
        "* Medical diagnosis\n",
        "* Stock price prediction\n",
        "* Recommendation systems\n",
        "\n",
        "**20. What is the difference between Bagging and Boosting?**\n",
        "\n",
        "* **Bagging** builds models in **parallel** and focuses on variance reduction.\n",
        "* **Boosting** builds models **sequentially**, correcting previous errors, and focuses on bias reduction.\n",
        "\n",
        "\n"
      ],
      "metadata": {
        "id": "HNNzn3eY69tf"
      }
    },
    {
      "cell_type": "markdown",
      "source": [
        "#PRACTICAL QUESTIONS"
      ],
      "metadata": {
        "id": "52_O5cIO8vxO"
      }
    },
    {
      "cell_type": "code",
      "execution_count": 14,
      "metadata": {
        "colab": {
          "base_uri": "https://localhost:8080/"
        },
        "id": "pdAaf-iV68oP",
        "outputId": "fa27bf44-3b34-4fbf-9801-48921da73b67"
      },
      "outputs": [
        {
          "output_type": "stream",
          "name": "stdout",
          "text": [
            "Accuracy: 0.885\n"
          ]
        }
      ],
      "source": [
        "# 1. Train a Bagging Classifier using Decision Trees on a sample dataset and print model accuracy\n",
        "\n",
        "from sklearn.datasets import make_classification\n",
        "from sklearn.ensemble import BaggingClassifier\n",
        "from sklearn.tree import DecisionTreeClassifier\n",
        "from sklearn.model_selection import train_test_split\n",
        "from sklearn.metrics import accuracy_score\n",
        "\n",
        "X, y = make_classification(n_samples=1000, n_features=20, random_state=42)\n",
        "X_train, X_test, y_train, y_test = train_test_split(X, y, test_size=0.2, random_state=42)\n",
        "\n",
        "bagging_clf = BaggingClassifier(estimator=DecisionTreeClassifier(), n_estimators=10, random_state=42)\n",
        "bagging_clf.fit(X_train, y_train)\n",
        "\n",
        "y_pred = bagging_clf.predict(X_test)\n",
        "print(\"Accuracy:\", accuracy_score(y_test, y_pred))\n"
      ]
    },
    {
      "cell_type": "code",
      "source": [
        "# 2. Train a Bagging Regressor using Decision Trees and evaluate using Mean Squared Error (MSE)\n",
        "\n",
        "from sklearn.datasets import load_diabetes\n",
        "from sklearn.ensemble import BaggingRegressor\n",
        "from sklearn.metrics import mean_squared_error\n",
        "\n",
        "data = load_diabetes()\n",
        "X, y = data.data, data.target\n",
        "X_train, X_test, y_train, y_test = train_test_split(X, y, test_size=0.2, random_state=42)\n",
        "\n",
        "bagging_reg = BaggingRegressor(estimator=DecisionTreeClassifier(), n_estimators=10, random_state=42)\n",
        "bagging_reg.fit(X_train, y_train)\n",
        "\n",
        "y_pred = bagging_reg.predict(X_test)\n",
        "print(\"MSE:\", mean_squared_error(y_test, y_pred))\n"
      ],
      "metadata": {
        "colab": {
          "base_uri": "https://localhost:8080/"
        },
        "id": "EVFdBGLVPK52",
        "outputId": "f4849881-127e-4674-be15-5360c6fa5b7b"
      },
      "execution_count": 15,
      "outputs": [
        {
          "output_type": "stream",
          "name": "stdout",
          "text": [
            "MSE: 3053.800898876405\n"
          ]
        }
      ]
    },
    {
      "cell_type": "code",
      "source": [
        "# 3. Train a Random Forest Classifier on the Breast Cancer dataset and print feature importance scores\n",
        "\n",
        "from sklearn.datasets import load_breast_cancer\n",
        "from sklearn.ensemble import RandomForestClassifier\n",
        "\n",
        "data = load_breast_cancer()\n",
        "X, y = data.data, data.target\n",
        "\n",
        "rf_clf = RandomForestClassifier(n_estimators=100, random_state=42)\n",
        "rf_clf.fit(X, y)\n",
        "\n",
        "importances = rf_clf.feature_importances_\n",
        "for name, score in zip(data.feature_names, importances):\n",
        "    print(f\"{name}: {score:.4f}\")\n"
      ],
      "metadata": {
        "colab": {
          "base_uri": "https://localhost:8080/"
        },
        "id": "F-zi58wHPMGV",
        "outputId": "a75b68ce-d853-46c2-a438-923ad74080bf"
      },
      "execution_count": 2,
      "outputs": [
        {
          "output_type": "stream",
          "name": "stdout",
          "text": [
            "mean radius: 0.0348\n",
            "mean texture: 0.0152\n",
            "mean perimeter: 0.0680\n",
            "mean area: 0.0605\n",
            "mean smoothness: 0.0080\n",
            "mean compactness: 0.0116\n",
            "mean concavity: 0.0669\n",
            "mean concave points: 0.1070\n",
            "mean symmetry: 0.0034\n",
            "mean fractal dimension: 0.0026\n",
            "radius error: 0.0143\n",
            "texture error: 0.0037\n",
            "perimeter error: 0.0101\n",
            "area error: 0.0296\n",
            "smoothness error: 0.0047\n",
            "compactness error: 0.0056\n",
            "concavity error: 0.0058\n",
            "concave points error: 0.0038\n",
            "symmetry error: 0.0035\n",
            "fractal dimension error: 0.0059\n",
            "worst radius: 0.0828\n",
            "worst texture: 0.0175\n",
            "worst perimeter: 0.0808\n",
            "worst area: 0.1394\n",
            "worst smoothness: 0.0122\n",
            "worst compactness: 0.0199\n",
            "worst concavity: 0.0373\n",
            "worst concave points: 0.1322\n",
            "worst symmetry: 0.0082\n",
            "worst fractal dimension: 0.0045\n"
          ]
        }
      ]
    },
    {
      "cell_type": "code",
      "source": [
        "# 4. Train a Random Forest Regressor and compare its performance with a single Decision Tree\n",
        "\n",
        "from sklearn.ensemble import RandomForestRegressor\n",
        "from sklearn.tree import DecisionTreeRegressor\n",
        "\n",
        "rf = RandomForestRegressor(n_estimators=100, random_state=42)\n",
        "dt = DecisionTreeRegressor(random_state=42)\n",
        "\n",
        "rf.fit(X_train, y_train)\n",
        "dt.fit(X_train, y_train)\n",
        "\n",
        "rf_pred = rf.predict(X_test)\n",
        "dt_pred = dt.predict(X_test)\n",
        "\n",
        "print(\"Random Forest MSE:\", mean_squared_error(y_test, rf_pred))\n",
        "print(\"Decision Tree MSE:\", mean_squared_error(y_test, dt_pred))\n"
      ],
      "metadata": {
        "colab": {
          "base_uri": "https://localhost:8080/"
        },
        "id": "V4DEF69jPSHv",
        "outputId": "ad59b73e-d667-4a35-a47e-aa566ad75f6e"
      },
      "execution_count": 4,
      "outputs": [
        {
          "output_type": "stream",
          "name": "stdout",
          "text": [
            "Random Forest MSE: 2952.0105887640448\n",
            "Decision Tree MSE: 4976.797752808989\n"
          ]
        }
      ]
    },
    {
      "cell_type": "code",
      "source": [
        "# 5. Compute the Out-of-Bag (OOB) Score for a Random Forest Classifier\n",
        "\n",
        "rf_oob = RandomForestClassifier(n_estimators=100, oob_score=True, random_state=42)\n",
        "rf_oob.fit(X_train, y_train)\n",
        "print(\"OOB Score:\", rf_oob.oob_score_)\n"
      ],
      "metadata": {
        "colab": {
          "base_uri": "https://localhost:8080/"
        },
        "id": "TnF-_u66PgGa",
        "outputId": "7989d80b-5947-42d2-d201-e70b1377a47d"
      },
      "execution_count": 5,
      "outputs": [
        {
          "output_type": "stream",
          "name": "stdout",
          "text": [
            "OOB Score: 0.0056657223796034\n"
          ]
        }
      ]
    },
    {
      "cell_type": "code",
      "source": [
        "# 6. Train a Bagging Classifier using SVM as a base estimator and print accuracy\n",
        "\n",
        "from sklearn.svm import SVC\n",
        "\n",
        "bag_svm = BaggingClassifier(estimator=SVC(), n_estimators=10, random_state=42)\n",
        "bag_svm.fit(X_train, y_train)\n",
        "\n",
        "y_pred = bag_svm.predict(X_test)\n",
        "print(\"Accuracy:\", accuracy_score(y_test, y_pred))\n"
      ],
      "metadata": {
        "colab": {
          "base_uri": "https://localhost:8080/"
        },
        "id": "ZjeqXX9hPhGb",
        "outputId": "a72b8500-66b9-4e1b-bc1c-05f622bc7bfd"
      },
      "execution_count": 16,
      "outputs": [
        {
          "output_type": "stream",
          "name": "stdout",
          "text": [
            "Accuracy: 0.0\n"
          ]
        }
      ]
    },
    {
      "cell_type": "code",
      "source": [
        "# 7. Train a Random Forest Classifier with different numbers of trees and compare accuracy\n",
        "\n",
        "for n in [10, 50, 100, 200]:\n",
        "    rf = RandomForestClassifier(n_estimators=n, random_state=42)\n",
        "    rf.fit(X_train, y_train)\n",
        "    acc = rf.score(X_test, y_test)\n",
        "    print(f\"n_estimators={n} -> Accuracy: {acc:.4f}\")\n"
      ],
      "metadata": {
        "colab": {
          "base_uri": "https://localhost:8080/"
        },
        "id": "r3kPtorAPiQ0",
        "outputId": "e01fba0e-019b-4742-bc15-9aa0d799f22b"
      },
      "execution_count": 7,
      "outputs": [
        {
          "output_type": "stream",
          "name": "stdout",
          "text": [
            "n_estimators=10 -> Accuracy: 0.0000\n",
            "n_estimators=50 -> Accuracy: 0.0000\n",
            "n_estimators=100 -> Accuracy: 0.0000\n",
            "n_estimators=200 -> Accuracy: 0.0000\n"
          ]
        }
      ]
    },
    {
      "cell_type": "code",
      "source": [
        "# 8. Train a Bagging Classifier using Logistic Regression as a base estimator and print AUC score\n",
        "\n",
        "\n",
        "from sklearn.datasets import load_breast_cancer\n",
        "from sklearn.model_selection import train_test_split\n",
        "from sklearn.linear_model import LogisticRegression\n",
        "from sklearn.ensemble import BaggingClassifier\n",
        "from sklearn.pipeline import make_pipeline\n",
        "from sklearn.preprocessing import StandardScaler\n",
        "from sklearn.metrics import roc_auc_score\n",
        "\n",
        "\n",
        "data = load_breast_cancer()\n",
        "X, y = data.data, data.target\n",
        "\n",
        "\n",
        "X_train, X_test, y_train, y_test = train_test_split(X, y, test_size=0.2, random_state=42)\n",
        "\n",
        "\n",
        "base_model = make_pipeline(StandardScaler(), LogisticRegression(solver='lbfgs', max_iter=3000))\n",
        "\n",
        "\n",
        "bag_lr = BaggingClassifier(estimator=base_model, n_estimators=10, random_state=42)\n",
        "\n",
        "\n",
        "bag_lr.fit(X_train, y_train)\n",
        "\n",
        "y_prob = bag_lr.predict_proba(X_test)[:, 1]\n",
        "\n",
        "\n",
        "print(\"AUC Score:\", roc_auc_score(y_test, y_prob))\n"
      ],
      "metadata": {
        "colab": {
          "base_uri": "https://localhost:8080/"
        },
        "id": "MXXOPqHGPjWt",
        "outputId": "e15e587b-3f3f-45fd-da28-1ba5caa489c2"
      },
      "execution_count": 22,
      "outputs": [
        {
          "output_type": "stream",
          "name": "stdout",
          "text": [
            "AUC Score: 0.9963969865705864\n"
          ]
        }
      ]
    },
    {
      "cell_type": "code",
      "source": [
        "# 9. Train a Random Forest Regressor and analyze feature importance scores\n",
        "\n",
        "rf = RandomForestRegressor(n_estimators=100, random_state=42)\n",
        "rf.fit(X_train, y_train)\n",
        "\n",
        "importances = rf.feature_importances_\n",
        "for name, score in zip(data.feature_names, importances):\n",
        "    print(f\"{name}: {score:.4f}\")\n"
      ],
      "metadata": {
        "colab": {
          "base_uri": "https://localhost:8080/"
        },
        "id": "DVfkfjdcPkRc",
        "outputId": "e31c5b2a-a7db-4b35-8230-57c285e9a1cb"
      },
      "execution_count": 9,
      "outputs": [
        {
          "output_type": "stream",
          "name": "stdout",
          "text": [
            "age: 0.0586\n",
            "sex: 0.0096\n",
            "bmi: 0.3555\n",
            "bp: 0.0884\n",
            "s1: 0.0528\n",
            "s2: 0.0572\n",
            "s3: 0.0513\n",
            "s4: 0.0242\n",
            "s5: 0.2310\n",
            "s6: 0.0713\n"
          ]
        }
      ]
    },
    {
      "cell_type": "code",
      "source": [
        "# 10. Train an ensemble model using both Bagging and Random Forest and compare accuracy\n",
        "\n",
        "bag_model = BaggingClassifier(estimator=DecisionTreeClassifier(), n_estimators=10, random_state=42)\n",
        "rf_model = RandomForestClassifier(n_estimators=100, random_state=42)\n",
        "\n",
        "bag_model.fit(X_train, y_train)\n",
        "rf_model.fit(X_train, y_train)\n",
        "\n",
        "bag_acc = bag_model.score(X_test, y_test)\n",
        "rf_acc = rf_model.score(X_test, y_test)\n",
        "\n",
        "print(f\"Bagging Accuracy: {bag_acc:.4f}\")\n",
        "print(f\"Random Forest Accuracy: {rf_acc:.4f}\")\n"
      ],
      "metadata": {
        "colab": {
          "base_uri": "https://localhost:8080/"
        },
        "id": "VfK3BfLwPlMF",
        "outputId": "5b8243d7-4669-47e4-c0c6-c4142c5563c6"
      },
      "execution_count": 19,
      "outputs": [
        {
          "output_type": "stream",
          "name": "stdout",
          "text": [
            "Bagging Accuracy: 0.0000\n",
            "Random Forest Accuracy: 0.0000\n"
          ]
        }
      ]
    },
    {
      "cell_type": "code",
      "source": [
        "# 11. Train a Random Forest Classifier and tune hyperparameters using GridSearchCV\n",
        "\n",
        "from sklearn.model_selection import GridSearchCV\n",
        "\n",
        "param_grid = {\n",
        "    'n_estimators': [50, 100],\n",
        "    'max_depth': [None, 10, 20],\n",
        "    'min_samples_split': [2, 5]\n",
        "}\n",
        "\n",
        "grid = GridSearchCV(RandomForestClassifier(random_state=42), param_grid, cv=3, scoring='accuracy')\n",
        "grid.fit(X_train, y_train)\n",
        "\n",
        "print(\"Best Parameters:\", grid.best_params_)\n",
        "print(\"Best Accuracy:\", grid.best_score_)\n"
      ],
      "metadata": {
        "colab": {
          "base_uri": "https://localhost:8080/"
        },
        "id": "bgVxBN5xPmQV",
        "outputId": "fd17d0b2-9398-4c19-c40e-4b16ecaa30b4"
      },
      "execution_count": 11,
      "outputs": [
        {
          "output_type": "stream",
          "name": "stderr",
          "text": [
            "/usr/local/lib/python3.11/dist-packages/sklearn/model_selection/_split.py:805: UserWarning: The least populated class in y has only 1 members, which is less than n_splits=3.\n",
            "  warnings.warn(\n"
          ]
        },
        {
          "output_type": "stream",
          "name": "stdout",
          "text": [
            "Best Parameters: {'max_depth': 10, 'min_samples_split': 2, 'n_estimators': 50}\n",
            "Best Accuracy: 0.016973296634313583\n"
          ]
        }
      ]
    },
    {
      "cell_type": "code",
      "source": [
        "# 12. Train a Bagging Regressor with different numbers of base estimators and compare performance\n",
        "\n",
        "for n in [5, 10, 50]:\n",
        "    bag = BaggingRegressor(estimator=DecisionTreeRegressor(), n_estimators=n, random_state=42)\n",
        "    bag.fit(X_train, y_train)\n",
        "    pred = bag.predict(X_test)\n",
        "    print(f\"n_estimators={n} -> MSE: {mean_squared_error(y_test, pred):.4f}\")\n"
      ],
      "metadata": {
        "colab": {
          "base_uri": "https://localhost:8080/"
        },
        "id": "lcqJHp-jPnWV",
        "outputId": "4d05bb8d-109b-426e-c2d2-6154b3aab471"
      },
      "execution_count": 20,
      "outputs": [
        {
          "output_type": "stream",
          "name": "stdout",
          "text": [
            "n_estimators=5 -> MSE: 3367.1020\n",
            "n_estimators=10 -> MSE: 3256.9618\n",
            "n_estimators=50 -> MSE: 3056.4946\n"
          ]
        }
      ]
    },
    {
      "cell_type": "code",
      "source": [
        "# 13. Train a Random Forest Classifier and analyze misclassified samples\n",
        "\n",
        "rf = RandomForestClassifier(n_estimators=100, random_state=42)\n",
        "rf.fit(X_train, y_train)\n",
        "\n",
        "y_pred = rf.predict(X_test)\n",
        "\n",
        "misclassified_indices = (y_pred != y_test)\n",
        "print(\"Total Misclassified Samples:\", misclassified_indices.sum())\n"
      ],
      "metadata": {
        "colab": {
          "base_uri": "https://localhost:8080/"
        },
        "id": "qH_g2BnIPokM",
        "outputId": "6858ea4b-9bc5-4efc-8fc4-fb4f6f135ad8"
      },
      "execution_count": 13,
      "outputs": [
        {
          "output_type": "stream",
          "name": "stdout",
          "text": [
            "Total Misclassified Samples: 89\n"
          ]
        }
      ]
    },
    {
      "cell_type": "code",
      "source": [
        "# 14. Train a Bagging Classifier and compare its performance with a single Decision Tree Classifier\n",
        "\n",
        "from sklearn.datasets import make_classification\n",
        "from sklearn.ensemble import BaggingClassifier\n",
        "from sklearn.tree import DecisionTreeClassifier\n",
        "from sklearn.model_selection import train_test_split\n",
        "from sklearn.metrics import accuracy_score\n",
        "\n",
        "X, y = make_classification(n_samples=1000, n_features=20, random_state=42)\n",
        "X_train, X_test, y_train, y_test = train_test_split(X, y, test_size=0.2, random_state=42)\n",
        "\n",
        "tree = DecisionTreeClassifier(random_state=42)\n",
        "bag = BaggingClassifier(estimator=DecisionTreeClassifier(), n_estimators=10, random_state=42)\n",
        "\n",
        "tree.fit(X_train, y_train)\n",
        "bag.fit(X_train, y_train)\n",
        "\n",
        "print(\"Decision Tree Accuracy:\", accuracy_score(y_test, tree.predict(X_test)))\n",
        "print(\"Bagging Classifier Accuracy:\", accuracy_score(y_test, bag.predict(X_test)))\n"
      ],
      "metadata": {
        "colab": {
          "base_uri": "https://localhost:8080/"
        },
        "id": "jZy0jF5_Ppd9",
        "outputId": "3750048d-e6eb-47ce-ebd7-bb5e70a34157"
      },
      "execution_count": 23,
      "outputs": [
        {
          "output_type": "stream",
          "name": "stdout",
          "text": [
            "Decision Tree Accuracy: 0.875\n",
            "Bagging Classifier Accuracy: 0.885\n"
          ]
        }
      ]
    },
    {
      "cell_type": "code",
      "source": [
        "# 15. Train a Random Forest Classifier and visualize the confusion matrix\n",
        "\n",
        "from sklearn.ensemble import RandomForestClassifier\n",
        "from sklearn.metrics import confusion_matrix, ConfusionMatrixDisplay\n",
        "\n",
        "rf = RandomForestClassifier(random_state=42)\n",
        "rf.fit(X_train, y_train)\n",
        "y_pred = rf.predict(X_test)\n",
        "\n",
        "cm = confusion_matrix(y_test, y_pred)\n",
        "disp = ConfusionMatrixDisplay(confusion_matrix=cm)\n",
        "disp.plot()\n"
      ],
      "metadata": {
        "colab": {
          "base_uri": "https://localhost:8080/",
          "height": 466
        },
        "id": "wFA8OpisRA3o",
        "outputId": "d97b0819-fdf3-41f2-e844-9fcca73d80eb"
      },
      "execution_count": 24,
      "outputs": [
        {
          "output_type": "execute_result",
          "data": {
            "text/plain": [
              "<sklearn.metrics._plot.confusion_matrix.ConfusionMatrixDisplay at 0x791fce1b6810>"
            ]
          },
          "metadata": {},
          "execution_count": 24
        },
        {
          "output_type": "display_data",
          "data": {
            "text/plain": [
              "<Figure size 640x480 with 2 Axes>"
            ],
            "image/png": "[encoded data removed]"
          },
          "metadata": {}
        }
      ]
    },
    {
      "cell_type": "code",
      "source": [
        "# 16. Train a Stacking Classifier using Decision Trees, SVM, and Logistic Regression, and compare accuracy\n",
        "\n",
        "from sklearn.ensemble import StackingClassifier\n",
        "from sklearn.svm import SVC\n",
        "from sklearn.linear_model import LogisticRegression\n",
        "\n",
        "estimators = [\n",
        "    ('dt', DecisionTreeClassifier()),\n",
        "    ('svm', SVC(probability=True))\n",
        "]\n",
        "\n",
        "stack_model = StackingClassifier(estimators=estimators, final_estimator=LogisticRegression())\n",
        "stack_model.fit(X_train, y_train)\n",
        "\n",
        "print(\"Stacking Classifier Accuracy:\", stack_model.score(X_test, y_test))\n"
      ],
      "metadata": {
        "colab": {
          "base_uri": "https://localhost:8080/"
        },
        "id": "YO3GhjFtRC_x",
        "outputId": "bb8948b1-6574-42d4-d493-0db5070a45fd"
      },
      "execution_count": 25,
      "outputs": [
        {
          "output_type": "stream",
          "name": "stdout",
          "text": [
            "Stacking Classifier Accuracy: 0.885\n"
          ]
        }
      ]
    },
    {
      "cell_type": "code",
      "source": [
        "# 17. Train a Random Forest Classifier and print the top 5 most important features\n",
        "\n",
        "rf = RandomForestClassifier(random_state=42)\n",
        "rf.fit(X_train, y_train)\n",
        "\n",
        "import numpy as np\n",
        "importances = rf.feature_importances_\n",
        "indices = np.argsort(importances)[::-1]\n",
        "\n",
        "print(\"Top 5 important features:\")\n",
        "for i in range(5):\n",
        "    print(f\"Feature {indices[i]}: {importances[indices[i]]:.4f}\")\n"
      ],
      "metadata": {
        "colab": {
          "base_uri": "https://localhost:8080/"
        },
        "id": "nAMAtFgxRGNp",
        "outputId": "caf0f468-96de-40e1-8a43-1471677c3fd2"
      },
      "execution_count": 26,
      "outputs": [
        {
          "output_type": "stream",
          "name": "stdout",
          "text": [
            "Top 5 important features:\n",
            "Feature 5: 0.3631\n",
            "Feature 18: 0.1773\n",
            "Feature 1: 0.1018\n",
            "Feature 14: 0.0756\n",
            "Feature 11: 0.0257\n"
          ]
        }
      ]
    },
    {
      "cell_type": "code",
      "source": [
        "# 18. Train a Bagging Classifier and evaluate performance using Precision, Recall, and F1-score\n",
        "\n",
        "from sklearn.metrics import precision_score, recall_score, f1_score\n",
        "\n",
        "bag = BaggingClassifier(estimator=DecisionTreeClassifier(), random_state=42)\n",
        "bag.fit(X_train, y_train)\n",
        "y_pred = bag.predict(X_test)\n",
        "\n",
        "print(\"Precision:\", precision_score(y_test, y_pred))\n",
        "print(\"Recall:\", recall_score(y_test, y_pred))\n",
        "print(\"F1 Score:\", f1_score(y_test, y_pred))\n"
      ],
      "metadata": {
        "colab": {
          "base_uri": "https://localhost:8080/"
        },
        "id": "wQZcY48DRHX5",
        "outputId": "ff6376aa-c6fd-4008-d262-0c4ec4b7b682"
      },
      "execution_count": 27,
      "outputs": [
        {
          "output_type": "stream",
          "name": "stdout",
          "text": [
            "Precision: 0.9565217391304348\n",
            "Recall: 0.822429906542056\n",
            "F1 Score: 0.8844221105527639\n"
          ]
        }
      ]
    },
    {
      "cell_type": "code",
      "source": [
        "# 19. Train a Random Forest Classifier and analyze the effect of max_depth on accuracy\n",
        "\n",
        "for depth in [None, 5, 10, 20]:\n",
        "    rf = RandomForestClassifier(max_depth=depth, random_state=42)\n",
        "    rf.fit(X_train, y_train)\n",
        "    acc = rf.score(X_test, y_test)\n",
        "    print(f\"max_depth={depth}: Accuracy={acc:.4f}\")\n"
      ],
      "metadata": {
        "colab": {
          "base_uri": "https://localhost:8080/"
        },
        "id": "WoBB6uFzRIe5",
        "outputId": "cb75cc45-b1be-44d5-f349-b0c85b564a23"
      },
      "execution_count": 28,
      "outputs": [
        {
          "output_type": "stream",
          "name": "stdout",
          "text": [
            "max_depth=None: Accuracy=0.9000\n",
            "max_depth=5: Accuracy=0.8800\n",
            "max_depth=10: Accuracy=0.8850\n",
            "max_depth=20: Accuracy=0.9000\n"
          ]
        }
      ]
    },
    {
      "cell_type": "code",
      "source": [
        "# 20. Train a Bagging Regressor using different base estimators (DecisionTree and KNeighbors) and compare performance\n",
        "\n",
        "from sklearn.neighbors import KNeighborsRegressor\n",
        "\n",
        "dt_reg = BaggingRegressor(estimator=DecisionTreeRegressor(), random_state=42)\n",
        "knn_reg = BaggingRegressor(estimator=KNeighborsRegressor(), random_state=42)\n",
        "\n",
        "dt_reg.fit(X_train, y_train)\n",
        "knn_reg.fit(X_train, y_train)\n",
        "\n",
        "print(\"Decision Tree Regressor MSE:\", mean_squared_error(y_test, dt_reg.predict(X_test)))\n",
        "print(\"KNN Regressor MSE:\", mean_squared_error(y_test, knn_reg.predict(X_test)))\n"
      ],
      "metadata": {
        "colab": {
          "base_uri": "https://localhost:8080/"
        },
        "id": "nfFOGNG5RJci",
        "outputId": "8e199d7d-b9d5-443f-8415-deba5260fa49"
      },
      "execution_count": 29,
      "outputs": [
        {
          "output_type": "stream",
          "name": "stdout",
          "text": [
            "Decision Tree Regressor MSE: 0.09740000000000001\n",
            "KNN Regressor MSE: 0.143162\n"
          ]
        }
      ]
    },
    {
      "cell_type": "code",
      "source": [
        "# 21. Train a Random Forest Classifier and evaluate its performance using ROC-AUC Score\n",
        "\n",
        "from sklearn.metrics import roc_auc_score\n",
        "\n",
        "rf = RandomForestClassifier(random_state=42)\n",
        "rf.fit(X_train, y_train)\n",
        "y_prob = rf.predict_proba(X_test)[:, 1]\n",
        "\n",
        "print(\"ROC-AUC Score:\", roc_auc_score(y_test, y_prob))\n"
      ],
      "metadata": {
        "colab": {
          "base_uri": "https://localhost:8080/"
        },
        "id": "I-WileBeRKra",
        "outputId": "0acdc576-c639-4e4f-9531-91d966846cfd"
      },
      "execution_count": 30,
      "outputs": [
        {
          "output_type": "stream",
          "name": "stdout",
          "text": [
            "ROC-AUC Score: 0.9379459350819013\n"
          ]
        }
      ]
    },
    {
      "cell_type": "code",
      "source": [
        "# 22. Train a Bagging Classifier and evaluate its performance using cross-validation\n",
        "\n",
        "from sklearn.model_selection import cross_val_score\n",
        "\n",
        "bag = BaggingClassifier(estimator=DecisionTreeClassifier(), random_state=42)\n",
        "scores = cross_val_score(bag, X, y, cv=5, scoring='accuracy')\n",
        "\n",
        "print(\"Cross-validation Accuracy Scores:\", scores)\n",
        "print(\"Mean Accuracy:\", scores.mean())\n"
      ],
      "metadata": {
        "colab": {
          "base_uri": "https://localhost:8080/"
        },
        "id": "Nfu3unS9RLqz",
        "outputId": "6a213954-5ef5-4ccd-e615-5bf7b06030a6"
      },
      "execution_count": 31,
      "outputs": [
        {
          "output_type": "stream",
          "name": "stdout",
          "text": [
            "Cross-validation Accuracy Scores: [0.95  0.9   0.895 0.895 0.86 ]\n",
            "Mean Accuracy: 0.9\n"
          ]
        }
      ]
    },
    {
      "cell_type": "code",
      "source": [
        "# 23. Train a Random Forest Classifier and plot the Precision-Recall curve\n",
        "\n",
        "from sklearn.metrics import precision_recall_curve\n",
        "import matplotlib.pyplot as plt\n",
        "\n",
        "rf = RandomForestClassifier(random_state=42)\n",
        "rf.fit(X_train, y_train)\n",
        "y_prob = rf.predict_proba(X_test)[:, 1]\n",
        "\n",
        "precision, recall, _ = precision_recall_curve(y_test, y_prob)\n",
        "plt.plot(recall, precision, marker='.')\n",
        "plt.title('Precision-Recall Curve')\n",
        "plt.xlabel('Recall')\n",
        "plt.ylabel('Precision')\n",
        "plt.grid(True)\n",
        "plt.show()\n"
      ],
      "metadata": {
        "colab": {
          "base_uri": "https://localhost:8080/",
          "height": 472
        },
        "id": "ZNUnO6WuRM6s",
        "outputId": "b18058ad-1148-488d-b753-21cf5ae8001c"
      },
      "execution_count": 32,
      "outputs": [
        {
          "output_type": "display_data",
          "data": {
            "text/plain": [
              "<Figure size 640x480 with 1 Axes>"
            ],
            "image/png": "[encoded data removed]"
          },
          "metadata": {}
        }
      ]
    },
    {
      "cell_type": "code",
      "source": [
        "# 24. Train a Stacking Classifier with Random Forest and Logistic Regression and compare accuracy\n",
        "\n",
        "estimators = [\n",
        "    ('rf', RandomForestClassifier(n_estimators=10, random_state=42)),\n",
        "    ('lr', LogisticRegression(max_iter=1000))\n",
        "]\n",
        "\n",
        "stack = StackingClassifier(estimators=estimators, final_estimator=LogisticRegression())\n",
        "stack.fit(X_train, y_train)\n",
        "\n",
        "print(\"Stacking Accuracy:\", stack.score(X_test, y_test))\n"
      ],
      "metadata": {
        "colab": {
          "base_uri": "https://localhost:8080/"
        },
        "id": "ul7lH52LRN2z",
        "outputId": "b4183547-e2bb-4e94-9a3c-4cd2d9a61418"
      },
      "execution_count": 33,
      "outputs": [
        {
          "output_type": "stream",
          "name": "stdout",
          "text": [
            "Stacking Accuracy: 0.86\n"
          ]
        }
      ]
    },
    {
      "cell_type": "code",
      "source": [
        "# 25. Train a Bagging Regressor with different levels of bootstrap samples and compare performance\n",
        "\n",
        "for bootstrap_val in [True, False]:\n",
        "    bag = BaggingRegressor(estimator=DecisionTreeRegressor(), bootstrap=bootstrap_val, random_state=42)\n",
        "    bag.fit(X_train, y_train)\n",
        "    mse = mean_squared_error(y_test, bag.predict(X_test))\n",
        "    print(f\"Bootstrap={bootstrap_val} -> MSE: {mse:.4f}\")\n"
      ],
      "metadata": {
        "colab": {
          "base_uri": "https://localhost:8080/"
        },
        "id": "mgJPeYqsRO0E",
        "outputId": "ff1daa34-f341-45e7-980e-3100de99821e"
      },
      "execution_count": 34,
      "outputs": [
        {
          "output_type": "stream",
          "name": "stdout",
          "text": [
            "Bootstrap=True -> MSE: 0.0974\n",
            "Bootstrap=False -> MSE: 0.1234\n"
          ]
        }
      ]
    },
    {
      "cell_type": "markdown",
      "source": [
        "#THANK YOU"
      ],
      "metadata": {
        "id": "ZrJS7woARRPO"
      }
    },
    {
      "cell_type": "code",
      "source": [],
      "metadata": {
        "id": "ONpcm-AqRP08"
      },
      "execution_count": null,
      "outputs": []
    }
  ]
}